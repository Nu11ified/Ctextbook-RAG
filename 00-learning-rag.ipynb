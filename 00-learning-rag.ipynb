{
 "cells": [
  {
   "cell_type": "markdown",
   "metadata": {},
   "source": [
    "## Create and run a local RAG pipeline\n",
    "\n",
    "We will use Google Collab to run this pipeline as they have dedicated GPUs for processing the model.\n",
    "\n",
    "RAG stands for retrival augmented generation\n",
    "\n",
    "RAG can help improve information processed through getting trained on specific models\n",
    "\n",
    "This specific RAG will be parsing the 2008 C Programming Textbook Written by K.N. King \n",
    "\n",
    "Steps:\n",
    "\n",
    "1. Open the PDF\n",
    "2. Format the text of the PDF to be ready for embedding the model\n",
    "3. Embed all the chunks of text in the textbook and turn them into numerical representations (embedding)\n",
    "4. Build a retrival system that uses a vector search to find a relevant chunk of text based on a query\n",
    "5. Create a prompt that incorperates the retrieve pieces of text\n",
    "6. Generate an answer to a query based on the passages of text from the embedding with an LLM \n",
    "\n"
   ]
  },
  {
   "cell_type": "code",
   "execution_count": null,
   "metadata": {},
   "outputs": [
    {
     "name": "stdout",
     "output_type": "stream",
     "text": [
      "[INFO] File doesn't exist, attempting download...\n",
      "[INFO] Successfully downloaded ctextbook.pdf\n"
     ]
    }
   ],
   "source": [
    "import os\n",
    "import requests\n",
    "\n",
    "# get the pdf from the path \n",
    "pdf_path = \"ctextbook.pdf\"\n",
    "\n",
    "# download if not existing\n",
    "if not os.path.exists(pdf_path):\n",
    "    print(f\"[INFO] File doesn't exist, attempting download...\")\n",
    "\n",
    "    #URL of PDF\n",
    "    URL = \"https://dn790000.ca.archive.org/0/items/c-programming-a-modern-approach-2nd-ed-c-89-c-99-king-by/C%20Programming%20-%20A%20Modern%20Approach%20-%202nd_Ed%28C89%2C%20c99%29%20-%20King%20by%20_text.pdf\"\n",
    "    # Download the file\n",
    "    response = requests.get(URL)\n",
    "    \n",
    "    # Check if download was successful\n",
    "    if response.status_code == 200:\n",
    "        # Write content to file\n",
    "        with open(pdf_path, \"wb\") as f:\n",
    "            f.write(response.content)\n",
    "        print(f\"[INFO] Successfully downloaded {pdf_path}\")\n",
    "    else:\n",
    "        print(f\"[ERROR] Failed to download file. Status code: {response.status_code}\")\n",
    "else: \n",
    "    print(f\"File {pdf_path} exists already.\")"
   ]
  },
  {
   "cell_type": "code",
   "execution_count": null,
   "metadata": {},
   "outputs": [],
   "source": [
    "# Import the PDF \n",
    "import fitz \n",
    "from tqdm.auto import tqdm\n",
    "\n",
    "def text_formatter(text: str) -> str:\n",
    "    \"\"\"\n",
    "    Format text from PDF for processing while preserving important structure.\n",
    "    Cleans text but maintains chapter titles and important formatting.\n",
    "    \"\"\"\n",
    "    # Remove excessive whitespace and normalize line breaks\n",
    "    cleaned_text = text.replace(\"\\n\", \" \").strip()\n",
    "    \n",
    "    # Remove multiple spaces\n",
    "    cleaned_text = \" \".join(cleaned_text.split())\n",
    "    \n",
    "    # Preserve chapter markers and section headers\n",
    "    # Look for patterns like \"Chapter X\" or \"Section X.Y\"\n",
    "    import re\n",
    "    \n",
    "    # Add line breaks before chapter/section headers for better parsing\n",
    "    cleaned_text = re.sub(r'(Chapter\\s+\\d+)', r'\\n\\1', cleaned_text)\n",
    "    cleaned_text = re.sub(r'(Section\\s+\\d+\\.?\\d*)', r'\\n\\1', cleaned_text)\n",
    "    \n",
    "    # Clean up any double line breaks\n",
    "    cleaned_text = re.sub(r'\\n\\s*\\n', '\\n', cleaned_text)\n",
    "    \n",
    "    return cleaned_text.strip()\n",
    "\n",
    "def open_and_read_pdf(pdf_path: str) -> list[dict]:\n",
    "    doc = fitz.open(pdf_path)\n",
    "    pages_and_texts = []\n",
    "    for page_number, page in tqdm(enumerate(doc)):\n",
    "        text = page.get_text()\n",
    "        text = text_formatter(text=text)\n",
    "        pages_and_texts.append()\n",
    "\n",
    "\n",
    "\n",
    "\n"
   ]
  }
 ],
 "metadata": {
  "kernelspec": {
   "display_name": ".venv",
   "language": "python",
   "name": "python3"
  },
  "language_info": {
   "codemirror_mode": {
    "name": "ipython",
    "version": 3
   },
   "file_extension": ".py",
   "mimetype": "text/x-python",
   "name": "python",
   "nbconvert_exporter": "python",
   "pygments_lexer": "ipython3",
   "version": "3.12.10"
  }
 },
 "nbformat": 4,
 "nbformat_minor": 2
}
